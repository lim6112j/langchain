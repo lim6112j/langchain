{
 "cells": [
  {
   "cell_type": "markdown",
   "id": "eb1e5b6c-9584-4ac0-824c-eabb657d253b",
   "metadata": {},
   "source": [
    "hello"
   ]
  },
  {
   "cell_type": "code",
   "execution_count": 66,
   "id": "edf10ef5-8d6b-4b12-9f30-e6edd68d8d7c",
   "metadata": {},
   "outputs": [],
   "source": [
    "from langchain_community.llms import Ollama"
   ]
  },
  {
   "cell_type": "code",
   "execution_count": 67,
   "id": "4a9c8d31-5d0e-49e9-a5d0-ae2ff499e5c8",
   "metadata": {},
   "outputs": [],
   "source": [
    "from langchain_core.prompts import ChatPromptTemplate"
   ]
  },
  {
   "cell_type": "code",
   "execution_count": 68,
   "id": "8f310a16-1f49-417f-8744-bc6af0dbcc8c",
   "metadata": {},
   "outputs": [],
   "source": [
    "from langchain_core.output_parsers import StrOutputParser"
   ]
  },
  {
   "cell_type": "code",
   "execution_count": 69,
   "id": "7526c37f-a3f2-4880-beab-849c7db4277b",
   "metadata": {},
   "outputs": [],
   "source": [
    "from langchain_community.document_loaders import WebBaseLoader"
   ]
  },
  {
   "cell_type": "code",
   "execution_count": 70,
   "id": "ee241d6b-a828-460f-8779-45697e6e1510",
   "metadata": {},
   "outputs": [],
   "source": [
    "from langchain_community.embeddings import OllamaEmbeddings"
   ]
  },
  {
   "cell_type": "code",
   "execution_count": 71,
   "id": "8f7e1b7d-ab9a-4e97-b893-44cdbb32992c",
   "metadata": {},
   "outputs": [],
   "source": [
    "from langchain_community.vectorstores import FAISS"
   ]
  },
  {
   "cell_type": "code",
   "execution_count": 72,
   "id": "813e187e-daaa-4499-9bf5-5c211d2cd2b3",
   "metadata": {},
   "outputs": [],
   "source": [
    "from langchain_text_splitters import RecursiveCharacterTextSplitter"
   ]
  },
  {
   "cell_type": "code",
   "execution_count": 84,
   "id": "e579b472-d144-47d3-a3d7-a3fd3768a138",
   "metadata": {},
   "outputs": [],
   "source": [
    "from langchain_core.documents import Document"
   ]
  },
  {
   "cell_type": "code",
   "execution_count": 85,
   "id": "088ccb18-2d2d-407c-81d1-799b67b477b8",
   "metadata": {},
   "outputs": [],
   "source": [
    "from langchain.chains.combine_documents import create_stuff_documents_chain"
   ]
  },
  {
   "cell_type": "code",
   "execution_count": 105,
   "id": "39f9aa7e-822b-4836-a704-9ec1056c05b4",
   "metadata": {},
   "outputs": [],
   "source": [
    "url = \"https://www.catch.co.kr/News/RecruitNews/251560\""
   ]
  },
  {
   "cell_type": "code",
   "execution_count": 125,
   "id": "52fd5278-4ec7-4498-92a1-9821f0350ff7",
   "metadata": {},
   "outputs": [],
   "source": [
    "question = \"현대 자동차의 디자인 능력에 대해 한글로 말해줘\""
   ]
  },
  {
   "cell_type": "code",
   "execution_count": 126,
   "id": "ad55751d-ec63-481a-9f50-1030307f6cb7",
   "metadata": {},
   "outputs": [],
   "source": [
    "loader = WebBaseLoader(url)"
   ]
  },
  {
   "cell_type": "code",
   "execution_count": 127,
   "id": "271ec414-94dd-4193-980d-4ad14095aea6",
   "metadata": {},
   "outputs": [],
   "source": [
    "docs = loader.load()"
   ]
  },
  {
   "cell_type": "code",
   "execution_count": 128,
   "id": "cf7b7b12-471e-4a71-a790-f8dc115bedcd",
   "metadata": {},
   "outputs": [],
   "source": [
    "text_splitter = RecursiveCharacterTextSplitter()"
   ]
  },
  {
   "cell_type": "code",
   "execution_count": 129,
   "id": "8476001a-832f-4613-9c92-ecc0e50ef31b",
   "metadata": {},
   "outputs": [],
   "source": [
    "documents = text_splitter.split_documents(docs)"
   ]
  },
  {
   "cell_type": "code",
   "execution_count": 130,
   "id": "defcb375-3384-4c08-9892-a6e2ce2a8eb1",
   "metadata": {},
   "outputs": [],
   "source": [
    "embeddings = OllamaEmbeddings()"
   ]
  },
  {
   "cell_type": "code",
   "execution_count": 131,
   "id": "b5e0764b-9bd4-4c4e-959b-10dcf92cf1d4",
   "metadata": {},
   "outputs": [],
   "source": [
    "vector = FAISS.from_documents(documents, embeddings)"
   ]
  },
  {
   "cell_type": "code",
   "execution_count": 132,
   "id": "5875fbec-79c3-45bb-90d8-6e5d7118137c",
   "metadata": {},
   "outputs": [],
   "source": [
    "output_parser = StrOutputParser()"
   ]
  },
  {
   "cell_type": "code",
   "execution_count": 133,
   "id": "fa5bcbaa-6c5c-4aee-893c-2d199a8691cd",
   "metadata": {},
   "outputs": [],
   "source": [
    "prompt = ChatPromptTemplate.from_template(\"\"\"Answer the following question based only on the provided context:\n",
    "\n",
    "<context>\n",
    "{context}\n",
    "</context>\n",
    "\n",
    "Question: {input}\"\"\")"
   ]
  },
  {
   "cell_type": "code",
   "execution_count": 134,
   "id": "b9c4a580-1f97-49bd-b38b-9bdb38a1f107",
   "metadata": {},
   "outputs": [],
   "source": [
    "llm = Ollama(model=\"llama2\")"
   ]
  },
  {
   "cell_type": "code",
   "execution_count": 135,
   "id": "8a67fbfb-e8fa-4e83-a746-d32e55d28901",
   "metadata": {},
   "outputs": [],
   "source": [
    "document_chain = create_stuff_documents_chain(llm, prompt)"
   ]
  },
  {
   "cell_type": "code",
   "execution_count": 136,
   "id": "4e5f6389-9621-4afb-9775-b10abe765d01",
   "metadata": {},
   "outputs": [
    {
     "data": {
      "text/plain": [
       "\"Sure, I'd be happy to help! Based on the provided context, here is my answer:\\n\\n현대 자동차의 디자인 능력은 상 prezents 멋있는 양 sides 표現합니다. From the modern and sleek exterior to the luxurious and spacious interior, every aspect of their design is carefully crafted to provide a premium driving experience. Whether you're cruising down the highway or navigating through crowded city streets, their vehicles are designed to make you feel confident and in control. With advanced technology features and innovative safety solutions, you can trust that you and your passengers will be safe and secure on the road. In short, 현대 자동차 is a brand that truly embodies the spirit of modern automotive design and engineering excellence.\""
      ]
     },
     "execution_count": 136,
     "metadata": {},
     "output_type": "execute_result"
    }
   ],
   "source": [
    "document_chain.invoke({\n",
    "    \"input\": question,\n",
    "    \"context\": [Document(page_content=\"langsmith can let you visualize test results\")]\n",
    "})"
   ]
  },
  {
   "cell_type": "code",
   "execution_count": 137,
   "id": "9b130011-65c2-4c6f-85e8-a0f273e52eb8",
   "metadata": {},
   "outputs": [],
   "source": [
    "from langchain.chains import create_retrieval_chain"
   ]
  },
  {
   "cell_type": "code",
   "execution_count": 138,
   "id": "df549e30-fedf-442a-81cc-0bc29d442e61",
   "metadata": {},
   "outputs": [],
   "source": [
    "retriever = vector.as_retriever()"
   ]
  },
  {
   "cell_type": "code",
   "execution_count": 139,
   "id": "92820367-f50f-4bf7-9783-9a93bd767dfa",
   "metadata": {},
   "outputs": [],
   "source": [
    "retrieval_chain = create_retrieval_chain(retriever, document_chain)"
   ]
  },
  {
   "cell_type": "code",
   "execution_count": 140,
   "id": "0273108f-b4c0-4b43-a731-70a452f3942f",
   "metadata": {},
   "outputs": [],
   "source": [
    "response = retrieval_chain.invoke({\"input\": question})"
   ]
  },
  {
   "cell_type": "code",
   "execution_count": 141,
   "id": "a538d0b4-8b1b-4dc5-8203-fcb2d076eff9",
   "metadata": {},
   "outputs": [
    {
     "name": "stdout",
     "output_type": "stream",
     "text": [
      "\n",
      "Sure, here's a summary of Hyundai Motor Company's design capabilities in Korean:\n",
      "\n",
      "Hyundai Motor Company is known for its innovative and stylish designs. The company has won numerous awards for its products, including the iF Design Award, Red Dot Design Award, and IDEA Design Award. Hyundai's designs are characterized by a focus on user experience, ergonomics, and sustainability.\n",
      "\n",
      "The company's design philosophy is centered around the concept of \"Palisade,\" which represents a new standard for premium SUVs. The Palisade is designed to offer a luxurious and spacious interior, with a focus on comfort and convenience. The exterior is sleek and modern, with a bold and confident appearance.\n",
      "\n",
      "Hyundai's design team is composed of skilled professionals with a deep understanding of automotive design. The team uses cutting-edge technology and software to create detailed 3D models and visualizations of their designs. This allows them to test and refine their designs before they are put into production.\n",
      "\n",
      "In addition to its Palisade model, Hyundai offers a range of other vehicles with stylish and innovative designs. The company's design capabilities are reflected in its commitment to quality and attention to detail, which are evident in every aspect of its products.\n"
     ]
    }
   ],
   "source": [
    "print(response[\"answer\"])"
   ]
  },
  {
   "cell_type": "code",
   "execution_count": null,
   "id": "7adbef0e-10e0-4a47-8259-abc4cec0b82a",
   "metadata": {},
   "outputs": [],
   "source": []
  }
 ],
 "metadata": {
  "kernelspec": {
   "display_name": "Python 3 (ipykernel)",
   "language": "python",
   "name": "python3"
  },
  "language_info": {
   "codemirror_mode": {
    "name": "ipython",
    "version": 3
   },
   "file_extension": ".py",
   "mimetype": "text/x-python",
   "name": "python",
   "nbconvert_exporter": "python",
   "pygments_lexer": "ipython3",
   "version": "3.12.2"
  }
 },
 "nbformat": 4,
 "nbformat_minor": 5
}
